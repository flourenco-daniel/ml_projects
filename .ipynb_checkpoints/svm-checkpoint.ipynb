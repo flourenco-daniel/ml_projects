{
 "cells": [
  {
   "cell_type": "code",
   "execution_count": 1,
   "id": "3a9f2e43-9220-492f-a59e-79790d621a09",
   "metadata": {},
   "outputs": [],
   "source": [
    "##loading libs\n",
    "import pandas as pd\n",
    "import numpy as np\n",
    "from matplotlib import pyplot as plt"
   ]
  },
  {
   "cell_type": "code",
   "execution_count": 9,
   "id": "bfc59b33-b7ca-4abb-9af1-03ce9e2be5d7",
   "metadata": {},
   "outputs": [],
   "source": [
    "from sklearn.datasets import load_iris\n",
    "data = load_iris()\n",
    "iris = pd.DataFrame(data['data'], columns=data.feature_names)\n",
    "target = data.target"
   ]
  },
  {
   "cell_type": "code",
   "execution_count": 5,
   "id": "1cd5da74-c62c-4c35-b7f2-b53ddd606eae",
   "metadata": {},
   "outputs": [],
   "source": [
    "##importing SVM algorithm\n",
    "\n",
    "from sklearn.model_selection import cross_val_score\n",
    "from sklearn.svm import SVC\n",
    "svc = SVC(gamma=\"auto\")"
   ]
  },
  {
   "cell_type": "code",
   "execution_count": 10,
   "id": "e05cd0ea-ee2c-48af-aaa4-f9537483d1d6",
   "metadata": {},
   "outputs": [
    {
     "name": "stdout",
     "output_type": "stream",
     "text": [
      "Accuracy with cross validation:  98.00000000000001\n"
     ]
    }
   ],
   "source": [
    "#testando o modelo \"svc\"com validação cruzada\n",
    "cv_result = cross_val_score(svc, iris, target, cv=10, scoring=\"accuracy\")\n",
    "print(\"Accuracy with cross validation: \", cv_result.mean()*100)"
   ]
  }
 ],
 "metadata": {
  "kernelspec": {
   "display_name": "Python 3 (ipykernel)",
   "language": "python",
   "name": "python3"
  },
  "language_info": {
   "codemirror_mode": {
    "name": "ipython",
    "version": 3
   },
   "file_extension": ".py",
   "mimetype": "text/x-python",
   "name": "python",
   "nbconvert_exporter": "python",
   "pygments_lexer": "ipython3",
   "version": "3.13.1"
  }
 },
 "nbformat": 4,
 "nbformat_minor": 5
}
