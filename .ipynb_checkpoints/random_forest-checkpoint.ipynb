{
 "cells": [
  {
   "cell_type": "code",
   "execution_count": null,
   "id": "ac74138d-2ed3-4f12-9a4c-f3b8be509ca8",
   "metadata": {},
   "outputs": [],
   "source": [
    "import pandas as pd\n",
    "from matplotlib import pyplot as plt\n",
    "from sklearn.tree import plot_tree\n",
    "from sklearn.ensemble import RandomForestClassifier\n",
    "from sklearn.datasets import make_classification\n",
    "#a declaração da variável abaixo é um unpacking, ou seja, o python recebe os parametros das features em X e labels em Y automaticamente\n",
    "X, y = make_classification(n_samples=1000, n_features=4, n_informative=2, n_redundat=0, random_state=0, shuffle=False)\n",
    "clf = RandomForestClassifier(n_estimators=5, max_depth=2, random_state=0)\n",
    "clf.fit(X, y)\n",
    "print(clf.predict([[0,0,0,0]])))"
   ]
  }
 ],
 "metadata": {
  "kernelspec": {
   "display_name": "Python 3 (ipykernel)",
   "language": "python",
   "name": "python3"
  },
  "language_info": {
   "codemirror_mode": {
    "name": "ipython",
    "version": 3
   },
   "file_extension": ".py",
   "mimetype": "text/x-python",
   "name": "python",
   "nbconvert_exporter": "python",
   "pygments_lexer": "ipython3",
   "version": "3.13.1"
  }
 },
 "nbformat": 4,
 "nbformat_minor": 5
}
